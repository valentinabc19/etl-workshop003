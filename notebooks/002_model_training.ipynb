{
 "cells": [
  {
   "cell_type": "markdown",
   "id": "ddc67036",
   "metadata": {},
   "source": [
    "# feature selection and model training"
   ]
  },
  {
   "cell_type": "code",
   "execution_count": null,
   "id": "e87b9c1e",
   "metadata": {},
   "outputs": [],
   "source": [
    "import pandas as pd\n",
    "import os\n",
    "from sklearn.model_selection import train_test_split\n",
    "from sklearn.linear_model import LogisticRegression\n",
    "from sklearn.tree import DecisionTreeClassifier\n",
    "from sklearn.ensemble import RandomForestClassifier\n",
    "from sklearn.neighbors import KNeighborsClassifier\n",
    "from sklearn.metrics import classification_report, accuracy_score\n",
    "from sklearn.preprocessing import OneHotEncoder\n",
    "from sklearn.compose import ColumnTransformer\n",
    "from sklearn.preprocessing import StandardScaler\n",
    "from sklearn.metrics import precision_score, recall_score, f1_score"
   ]
  },
  {
   "cell_type": "code",
   "execution_count": 4,
   "id": "aae9831d",
   "metadata": {},
   "outputs": [
    {
     "name": "stdout",
     "output_type": "stream",
     "text": [
      "c:\\Users\\valen\\Desktop\\etl_workshop003\n"
     ]
    }
   ],
   "source": [
    "import os\n",
    "\n",
    "os.chdir(\"../\")\n",
    "print(os.getcwd())"
   ]
  },
  {
   "cell_type": "code",
   "execution_count": null,
   "id": "4b391949",
   "metadata": {},
   "outputs": [],
   "source": [
    "df_model = pd.read_csv('data/merged_data.csv')"
   ]
  },
  {
   "cell_type": "code",
   "execution_count": null,
   "id": "f41dcb27",
   "metadata": {},
   "outputs": [],
   "source": [
    "import pandas as pd\n",
    "import numpy as np\n",
    "from sklearn.model_selection import train_test_split, cross_val_score\n",
    "from sklearn.linear_model import LinearRegression, Ridge, Lasso\n",
    "from sklearn.ensemble import RandomForestRegressor, GradientBoostingRegressor\n",
    "from sklearn.metrics import r2_score, mean_squared_error\n",
    "import joblib"
   ]
  },
  {
   "cell_type": "code",
   "execution_count": 6,
   "id": "3816cc00",
   "metadata": {},
   "outputs": [
    {
     "name": "stdout",
     "output_type": "stream",
     "text": [
      "Index(['region', 'happiness_score', 'gdp_per_capita', 'social_support',\n",
      "       'healthy_life_expectancy', 'freedom', 'perceptions_of_corruption',\n",
      "       'generosity', 'year', 'country_albania',\n",
      "       ...\n",
      "       'country_united arab emirates', 'country_united kingdom',\n",
      "       'country_united states', 'country_uruguay', 'country_uzbekistan',\n",
      "       'country_venezuela', 'country_vietnam', 'country_yemen',\n",
      "       'country_zambia', 'country_zimbabwe'],\n",
      "      dtype='object', length=171)\n",
      "Linear Regression: R² = 0.952, RMSE = 0.245\n",
      "Ridge: R² = 0.930, RMSE = 0.296\n",
      "Lasso: R² = 0.613, RMSE = 0.694\n",
      "Random Forest: R² = 0.859, RMSE = 0.419\n",
      "Gradient Boosting: R² = 0.830, RMSE = 0.459\n",
      "\n",
      "✅ Mejor modelo: Linear Regression (R² = 0.952, RMSE = 0.245)\n"
     ]
    },
    {
     "data": {
      "text/plain": [
       "'joblib.dump(modelo_final, f\"modelo_{nombre_mejor.replace(\\' \\', \\'_\\').lower()}.pkl\")\\nprint(f\"Modelo guardado como modelo_{nombre_mejor.replace(\\' \\', \\'_\\').lower()}.pkl\")\\n'"
      ]
     },
     "execution_count": 6,
     "metadata": {},
     "output_type": "execute_result"
    }
   ],
   "source": [
    "# 🔢 1. CARGAR Y PREPARAR DATOS\n",
    "df = pd.read_csv('data/merged_data.csv')  # Cambia por tu archivo real\n",
    "\n",
    "# Asegúrate de que 'country' esté en el DataFrame original\n",
    "df_codificado = pd.get_dummies(df, columns=[\"country\"], drop_first=True)\n",
    "\n",
    "# Puedes verificar las nuevas columnas así:\n",
    "print(df_codificado.columns)\n",
    "\n",
    "# Define tus X e y nuevamente\n",
    "X = df_codificado.drop(columns=[\"happiness_score\", \"region\", 'perceptions_of_corruption', 'generosity', 'year'])\n",
    "y = df_codificado[\"happiness_score\"]\n",
    "# 📚 2. DIVIDIR TRAIN Y TEST\n",
    "X_train, X_test, y_train, y_test = train_test_split(X, y, test_size=0.2, random_state=42)\n",
    "\n",
    "# 🔁 3. DEFINIR MODELOS A PROBAR\n",
    "modelos = {\n",
    "    \"Linear Regression\": LinearRegression(),\n",
    "    \"Ridge\": Ridge(alpha=1.0),\n",
    "    \"Lasso\": Lasso(alpha=0.1),\n",
    "    \"Random Forest\": RandomForestRegressor(n_estimators=100, random_state=42),\n",
    "    \"Gradient Boosting\": GradientBoostingRegressor(n_estimators=100, random_state=42)\n",
    "}\n",
    "\n",
    "# 🧪 4. ENTRENAR, EVALUAR Y COMPARAR\n",
    "resultados = []\n",
    "\n",
    "for nombre, modelo in modelos.items():\n",
    "    modelo.fit(X_train, y_train)\n",
    "    y_pred = modelo.predict(X_test)\n",
    "    \n",
    "    r2 = r2_score(y_test, y_pred)\n",
    "    rmse = np.sqrt(mean_squared_error(y_test, y_pred))\n",
    "    \n",
    "    resultados.append((nombre, r2, rmse))\n",
    "    print(f\"{nombre}: R² = {r2:.3f}, RMSE = {rmse:.3f}\")\n",
    "\n",
    "# 🏆 5. ELEGIR EL MEJOR MODELO\n",
    "mejor_modelo = max(resultados, key=lambda x: x[1])  # el que tenga mayor R²\n",
    "nombre_mejor, r2_mejor, rmse_mejor = mejor_modelo\n",
    "\n",
    "print(f\"\\n✅ Mejor modelo: {nombre_mejor} (R² = {r2_mejor:.3f}, RMSE = {rmse_mejor:.3f})\")\n",
    "\n",
    "# 🔄 ENTRENARLO CON TODO EL DATASET\n",
    "modelo_final = modelos[nombre_mejor]\n",
    "modelo_final.fit(X, y)\n",
    "\n",
    "# 💾 6. GUARDAR EL MODELO ENTRENADO\n",
    "'''joblib.dump(modelo_final, f\"modelo_{nombre_mejor.replace(' ', '_').lower()}.pkl\")\n",
    "print(f\"Modelo guardado como modelo_{nombre_mejor.replace(' ', '_').lower()}.pkl\")\n",
    "'''"
   ]
  },
  {
   "cell_type": "code",
   "execution_count": null,
   "id": "3fe4d464",
   "metadata": {},
   "outputs": [],
   "source": [
    "X = df_model.drop(['happiness_score', 'region', 'freedom', 'perceptions_of_corruption', 'generosity', 'year'], axis=1)\n",
    "y = df_model['happiness_score']\n",
    "\n",
    "X_train, X_test, y_train, y_test = train_test_split(X, y, test_size=0.2, random_state=42)"
   ]
  },
  {
   "cell_type": "markdown",
   "id": "40409a29",
   "metadata": {},
   "source": [
    "#### Data Preprocessing"
   ]
  },
  {
   "cell_type": "markdown",
   "id": "a7a2fd52",
   "metadata": {},
   "source": [
    "***One-Hot Encoding for Categorical Features***\n",
    "\n",
    "Apply One-Hot Encoding to categorical features to convert them into numerical format."
   ]
  },
  {
   "cell_type": "code",
   "execution_count": null,
   "id": "5767f95d",
   "metadata": {},
   "outputs": [],
   "source": [
    "categorical_features = ['country']\n",
    "preprocessor = ColumnTransformer(\n",
    "\ttransformers=[\n",
    "\t\t('cat', OneHotEncoder(handle_unknown='ignore'), categorical_features)\n",
    "\t],\n",
    "\tremainder='passthrough'\n",
    ")\n",
    "\n",
    "X_train_encoded = preprocessor.fit_transform(X_train)\n",
    "X_test_encoded = preprocessor.transform(X_test)"
   ]
  },
  {
   "cell_type": "code",
   "execution_count": null,
   "id": "2e5ad51f",
   "metadata": {},
   "outputs": [],
   "source": [
    "scaler = StandardScaler()\n",
    "X_train_scaled = scaler.fit_transform(X_train_encoded)\n",
    "X_test_scaled = scaler.transform(X_test_encoded)"
   ]
  }
 ],
 "metadata": {
  "kernelspec": {
   "display_name": "venv",
   "language": "python",
   "name": "python3"
  },
  "language_info": {
   "codemirror_mode": {
    "name": "ipython",
    "version": 3
   },
   "file_extension": ".py",
   "mimetype": "text/x-python",
   "name": "python",
   "nbconvert_exporter": "python",
   "pygments_lexer": "ipython3",
   "version": "3.11.9"
  }
 },
 "nbformat": 4,
 "nbformat_minor": 5
}
