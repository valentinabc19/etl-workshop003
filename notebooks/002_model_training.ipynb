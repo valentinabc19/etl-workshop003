{
 "cells": [
  {
   "cell_type": "markdown",
   "id": "ddc67036",
   "metadata": {},
   "source": [
    "# feature selection and model training"
   ]
  },
  {
   "cell_type": "code",
   "execution_count": null,
   "id": "c4807ec3",
   "metadata": {},
   "outputs": [],
   "source": [
    "import pandas as pd\n",
    "import os\n",
    "import numpy as np\n",
    "from sklearn.model_selection import train_test_split, KFold, cross_val_score\n",
    "from sklearn.compose import ColumnTransformer\n",
    "from sklearn.preprocessing import StandardScaler, OneHotEncoder\n",
    "from sklearn.linear_model import LinearRegression, RidgeCV\n",
    "from sklearn.ensemble import RandomForestRegressor\n",
    "from sklearn.pipeline import Pipeline\n",
    "from sklearn.metrics import mean_absolute_error, make_scorer, mean_squared_error, r2_score\n",
    "import joblib"
   ]
  },
  {
   "cell_type": "code",
   "execution_count": null,
   "id": "aae9831d",
   "metadata": {},
   "outputs": [
    {
     "name": "stdout",
     "output_type": "stream",
     "text": [
      "c:\\Users\\valen\\Desktop\\etl_workshop003\n"
     ]
    }
   ],
   "source": [
    "os.chdir(\"../\")\n",
    "print(os.getcwd())"
   ]
  },
  {
   "cell_type": "code",
   "execution_count": null,
   "id": "4b391949",
   "metadata": {},
   "outputs": [],
   "source": [
    "df_model = pd.read_csv('data/merged_data.csv')"
   ]
  },
  {
   "cell_type": "code",
   "execution_count": null,
   "id": "3fe4d464",
   "metadata": {},
   "outputs": [],
   "source": [
    "X = df_model.drop(['happiness_score', 'region', 'perceptions_of_corruption', 'generosity', 'year'], axis=1)\n",
    "y = df_model['happiness_score']\n",
    "\n",
    "X_train, X_test, y_train, y_test = train_test_split(X, y, test_size=0.2, random_state=42)"
   ]
  },
  {
   "cell_type": "markdown",
   "id": "40409a29",
   "metadata": {},
   "source": [
    "#### Data Preprocessing"
   ]
  },
  {
   "cell_type": "markdown",
   "id": "a7a2fd52",
   "metadata": {},
   "source": [
    "***One-Hot Encoding for Categorical Features***\n",
    "\n",
    "Apply One-Hot Encoding to categorical features to convert them into numerical format."
   ]
  },
  {
   "cell_type": "code",
   "execution_count": null,
   "id": "5767f95d",
   "metadata": {},
   "outputs": [],
   "source": [
    "numeric_features = ['gdp_per_capita', 'social_support', 'healthy_life_expectancy', 'freedom']\n",
    "categorical_features = ['country']\n",
    "\n",
    "preprocessor = ColumnTransformer(transformers=[\n",
    "    ('num', StandardScaler(), numeric_features),\n",
    "    ('cat', OneHotEncoder(handle_unknown='ignore'), categorical_features)\n",
    "])\n",
    "\n",
    "X_train_encoded = preprocessor.fit_transform(X_train)\n",
    "X_test_encoded = preprocessor.transform(X_test)"
   ]
  },
  {
   "cell_type": "code",
   "execution_count": null,
   "id": "759c7e8f",
   "metadata": {},
   "outputs": [],
   "source": [
    "models = {\n",
    "    \"LinearRegression\": LinearRegression(),\n",
    "    \"RidgeCV\": RidgeCV(alphas=[0.1, 1.0, 10.0]),\n",
    "    \"RandomForest\": RandomForestRegressor(n_estimators=100, random_state=42)\n",
    "}\n",
    "\n",
    "cv = KFold(n_splits=5, shuffle=True, random_state=42)\n",
    "results = {}"
   ]
  },
  {
   "cell_type": "code",
   "execution_count": null,
   "id": "64e9e510",
   "metadata": {},
   "outputs": [],
   "source": [
    "print(\"📊 VALIDACIÓN CRUZADA (solo en el 80% de entrenamiento):\\n\")\n",
    "\n",
    "for name, model in models.items():\n",
    "    pipeline = Pipeline(steps=[\n",
    "        ('preprocessing', preprocessor),\n",
    "        ('regressor', model)\n",
    "    ])\n",
    "\n",
    "    print(f\"🔎 Evaluando modelo: {name}\")\n",
    "    r2s, maes, rmses = [], [], []\n",
    "\n",
    "    for i, (train_idx, val_idx) in enumerate(cv.split(X_train)):\n",
    "        X_tr, X_val = X_train.iloc[train_idx], X_train.iloc[val_idx]\n",
    "        y_tr, y_val = y_train.iloc[train_idx], y_train.iloc[val_idx]\n",
    "\n",
    "        pipeline.fit(X_tr, y_tr)\n",
    "        y_pred = pipeline.predict(X_val)\n",
    "\n",
    "        r2 = r2_score(y_val, y_pred)\n",
    "        mae = mean_absolute_error(y_val, y_pred)\n",
    "        rmse = np.sqrt(mean_squared_error(y_val, y_pred))\n",
    "\n",
    "        r2s.append(r2)\n",
    "        maes.append(mae)\n",
    "        rmses.append(rmse)\n",
    "\n",
    "        print(f\" Fold {i+1}: R2={r2:.4f}, MAE={mae:.4f}, RMSE={rmse:.4f}\")\n",
    "\n",
    "    results[name] = {\n",
    "        \"R2_mean\": np.mean(r2s),\n",
    "        \"R2_std\": np.std(r2s),\n",
    "        \"MAE_mean\": np.mean(maes),\n",
    "        \"MAE_std\": np.std(maes),\n",
    "        \"RMSE_mean\": np.mean(rmses),\n",
    "        \"RMSE_std\": np.std(rmses)\n",
    "    }\n",
    "\n",
    "print(\"\\n📈 RESUMEN VALIDACIÓN CRUZADA:\")\n",
    "for name, res in results.items():\n",
    "    print(f\"\\nModelo: {name}\")\n",
    "    print(f\" R2   → Promedio: {res['R2_mean']:.4f} | Desviación: {res['R2_std']:.4f}\")\n",
    "    print(f\" MAE  → Promedio: {res['MAE_mean']:.4f} | Desviación: {res['MAE_std']:.4f}\")\n",
    "    print(f\" RMSE → Promedio: {res['RMSE_mean']:.4f} | Desviación: {res['RMSE_std']:.4f}\")\n"
   ]
  },
  {
   "cell_type": "code",
   "execution_count": null,
   "id": "7670f4f4",
   "metadata": {},
   "outputs": [],
   "source": [
    "best_model_name = max(results, key=lambda x: results[x]['R2_mean'])\n",
    "best_model = models[best_model_name]\n",
    "print(f\"\\n✅ Mejor modelo según validación cruzada: {best_model_name}\")"
   ]
  },
  {
   "cell_type": "code",
   "execution_count": null,
   "id": "e7c61946",
   "metadata": {},
   "outputs": [],
   "source": [
    "final_pipeline = Pipeline(steps=[\n",
    "    ('preprocessing', preprocessor),\n",
    "    ('regressor', best_model)\n",
    "])\n",
    "final_pipeline.fit(X_train, y_train)"
   ]
  },
  {
   "cell_type": "code",
   "execution_count": null,
   "id": "217daab8",
   "metadata": {},
   "outputs": [],
   "source": [
    "y_pred_test = final_pipeline.predict(X_test)\n",
    "r2_test = r2_score(y_test, y_pred_test)\n",
    "mae_test = mean_absolute_error(y_test, y_pred_test)\n",
    "rmse_test = np.sqrt(mean_squared_error(y_test, y_pred_test))\n",
    "\n",
    "print(f\"\\n📊 EVALUACIÓN FINAL en el 20% de TEST:\")\n",
    "print(f\" R2: {r2_test:.4f}\")\n",
    "print(f\" MAE: {mae_test:.4f}\")\n",
    "print(f\" RMSE: {rmse_test:.4f}\")"
   ]
  },
  {
   "cell_type": "code",
   "execution_count": null,
   "id": "3984676f",
   "metadata": {},
   "outputs": [],
   "source": [
    "joblib.dump(final_pipeline, 'model/trained_model.pkl')\n",
    "print(f\"\\n📦 Modelo '{best_model_name}' entrenado y guardado como 'modelo_entrenado.pkl'\")"
   ]
  }
 ],
 "metadata": {
  "kernelspec": {
   "display_name": "venv",
   "language": "python",
   "name": "python3"
  },
  "language_info": {
   "codemirror_mode": {
    "name": "ipython",
    "version": 3
   },
   "file_extension": ".py",
   "mimetype": "text/x-python",
   "name": "python",
   "nbconvert_exporter": "python",
   "pygments_lexer": "ipython3",
   "version": "3.11.9"
  }
 },
 "nbformat": 4,
 "nbformat_minor": 5
}
